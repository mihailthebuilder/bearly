{
 "cells": [
  {
   "cell_type": "code",
   "execution_count": 2,
   "id": "e8bcbd70-edf1-4ba0-a607-2db8c7843cb6",
   "metadata": {},
   "outputs": [],
   "source": [
    "from fastai.vision.all import *\n",
    "from fastai.vision.widgets import *\n",
    "\n",
    "path = Path()\n",
    "learn_inf = load_learner(path/'model.pkl')"
   ]
  },
  {
   "cell_type": "code",
   "execution_count": 3,
   "id": "bced8610",
   "metadata": {},
   "outputs": [
    {
     "data": {
      "application/vnd.jupyter.widget-view+json": {
       "model_id": "1d03174c37c54824b7111bdad1da60e5",
       "version_major": 2,
       "version_minor": 0
      },
      "text/plain": [
       "VBox(children=(Label(value='Select Your Bear'), FileUpload(value={}, description='Upload'), Output(), Label(va…"
      ]
     },
     "metadata": {},
     "output_type": "display_data"
    }
   ],
   "source": [
    "btn_upload = widgets.FileUpload()\n",
    "out_pl = widgets.Output()\n",
    "lbl_pred = widgets.Label()\n",
    "\n",
    "def on_click(change):\n",
    "    img = PILImage.create(btn_upload.data[-1])\n",
    "    out_pl.clear_output()\n",
    "    with out_pl: display(img.to_thumb(128,128))\n",
    "    pred,pred_idx,probs = learn_inf.predict(img)\n",
    "    lbl_pred.value = f'Prediction: {pred}; Probability: {probs[pred_idx]:.04f}'\n",
    "\n",
    "btn_upload.observe(on_click,names=['data'])\n",
    "\n",
    "desLbl = widgets.Label('Select Your Bear')\n",
    "\n",
    "display(VBox([desLbl, \n",
    "      btn_upload, out_pl, lbl_pred]))"
   ]
  }
 ],
 "metadata": {
  "interpreter": {
   "hash": "491aa9ec377dfa98b111cc10c6852de80ddc3aa90fa413d6850f534aecb6824b"
  },
  "kernelspec": {
   "display_name": "Python 3 (ipykernel)",
   "language": "python",
   "name": "python3"
  },
  "language_info": {
   "codemirror_mode": {
    "name": "ipython",
    "version": 3
   },
   "file_extension": ".py",
   "mimetype": "text/x-python",
   "name": "python",
   "nbconvert_exporter": "python",
   "pygments_lexer": "ipython3",
   "version": "3.8.10"
  }
 },
 "nbformat": 4,
 "nbformat_minor": 5
}

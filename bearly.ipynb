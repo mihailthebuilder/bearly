{
 "cells": [
  {
   "cell_type": "code",
   "execution_count": 3,
   "id": "e8bcbd70-edf1-4ba0-a607-2db8c7843cb6",
   "metadata": {},
   "outputs": [],
   "source": [
    "from fastai.vision.all import *\n",
    "from fastai.vision.widgets import *\n",
    "\n",
    "path = Path()\n",
    "learn_inf = load_learner(path/'model.pkl')"
   ]
  }
 ],
 "metadata": {
  "interpreter": {
   "hash": "491aa9ec377dfa98b111cc10c6852de80ddc3aa90fa413d6850f534aecb6824b"
  },
  "kernelspec": {
   "display_name": "Python 3.8.10 64-bit ('venv': venv)",
   "name": "python3"
  },
  "language_info": {
   "codemirror_mode": {
    "name": "ipython",
    "version": 3
   },
   "file_extension": ".py",
   "mimetype": "text/x-python",
   "name": "python",
   "nbconvert_exporter": "python",
   "pygments_lexer": "ipython3",
   "version": "3.8.10"
  }
 },
 "nbformat": 4,
 "nbformat_minor": 5
}
